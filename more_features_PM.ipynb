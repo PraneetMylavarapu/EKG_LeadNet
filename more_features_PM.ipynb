{
 "cells": [
  {
   "cell_type": "code",
   "execution_count": 195,
   "metadata": {},
   "outputs": [],
   "source": [
    "from scipy.signal import find_peaks\n",
    "from sklearn import preprocessing\n",
    "import statistics\n",
    "\n",
    "ekg,features=load_ekg(\"training/chapman_shaoxing/g1/JS00066\")\n",
    "\n",
    "def beat_characteristics(ekg, lead_num=1):\n",
    "    \"\"\"\n",
    "    RR_var: variance in distance between beats (distance between peaks)\n",
    "    HR: Heart Rate\n",
    "    \"\"\"\n",
    "    scaler = preprocessing.MinMaxScaler(feature_range=(0, 1))\n",
    "    \n",
    "    lead = ekg[lead_num][1000:4000]    \n",
    "    all_peaks, _ = find_peaks(lead, height=max(lead)/1.4, distance=150)\n",
    "\n",
    "    intervals = np.diff(all_peaks)\n",
    "    intervals_normalized = scaler.fit_transform(np.reshape(intervals,(-1,1)))\n",
    "\n",
    "    RR_var = statistics.variance(intervals)\n",
    "    RR_var_normalized = statistics.variance(np.reshape(intervals_normalized,(1,len(intervals_normalized)))[0])\n",
    "    HR = 30000/statistics.mean(result)\n",
    "    \n",
    "    return HR, RR_var, RR_var_normalized\n",
    "\n",
    "def is_invalid(ekg):\n",
    "    for lead_num in range(12):\n",
    "        HR, RR_var, RR_var_normalized = beat_characteristics(ekg,lead_num)\n",
    "        if RR_var >100000:\n",
    "            return True\n",
    "    return False\n",
    "    "
   ]
  }
 ],
 "metadata": {
  "kernelspec": {
   "display_name": "Python 3.10.8 64-bit",
   "language": "python",
   "name": "python3"
  },
  "language_info": {
   "codemirror_mode": {
    "name": "ipython",
    "version": 3
   },
   "file_extension": ".py",
   "mimetype": "text/x-python",
   "name": "python",
   "nbconvert_exporter": "python",
   "pygments_lexer": "ipython3",
   "version": "3.10.8"
  },
  "vscode": {
   "interpreter": {
    "hash": "e7370f93d1d0cde622a1f8e1c04877d8463912d04d973331ad4851f04de6915a"
   }
  }
 },
 "nbformat": 4,
 "nbformat_minor": 1
}
