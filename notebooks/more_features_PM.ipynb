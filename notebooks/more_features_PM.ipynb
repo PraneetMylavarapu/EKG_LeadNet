{
 "cells": [
  {
   "cell_type": "code",
   "execution_count": 195,
   "metadata": {},
   "outputs": [],
   "source": [
    "from scipy.signal import find_peaks\n",
    "from sklearn import preprocessing\n",
    "import statistics\n",
    "\n",
    "ekg,features=load_ekg(\"training/chapman_shaoxing/g1/JS00066\")\n",
    "\n",
    "def beat_characteristics(ekg, lead_num=1):\n",
    "    \"\"\"\n",
    "    RR_var: variance in distance between beats (distance between peaks)\n",
    "    HR: Heart Rate\n",
    "    \"\"\"\n",
    "    scaler = preprocessing.MinMaxScaler(feature_range=(0, 1))\n",
    "    \n",
    "    lead = ekg[lead_num][1000:4000]    \n",
    "    all_peaks, _ = find_peaks(lead, height=max(lead)/1.4, distance=150)\n",
    "\n",
    "    intervals = np.diff(all_peaks)\n",
    "    intervals_normalized = scaler.fit_transform(np.reshape(intervals,(-1,1)))\n",
    "\n",
    "    RR_var = statistics.variance(intervals)\n",
    "    RR_var_normalized = statistics.variance(np.reshape(intervals_normalized,(1,len(intervals_normalized)))[0])\n",
    "    HR = 30000/statistics.mean(result)\n",
    "    \n",
    "    return HR, RR_var, RR_var_normalized\n",
    "\n",
    "def is_invalid(ekg):\n",
    "    for lead_num in range(12):\n",
    "        HR, RR_var, RR_var_normalized = beat_characteristics(ekg,lead_num)\n",
    "        if RR_var >100000:\n",
    "            return True\n",
    "    return False\n",
    "    "
   ]
  },
  {
   "cell_type": "code",
   "execution_count": null,
   "metadata": {},
   "outputs": [],
   "source": [
    "def remove_baseline_wander_old(signal):\n",
    "    \"\"\"\n",
    "    Removes baseline wander from all leads, takes nd-array as input\n",
    "    \"\"\"\n",
    "    proc_signal = np.ndarray((0, signal.shape[1]))\n",
    "    for x in signal:\n",
    "        ssds = np.zeros((3))\n",
    "\n",
    "        cur_lp = np.copy(x)\n",
    "        iterations = 0\n",
    "        while True:\n",
    "            # Decompose 1 level\n",
    "            lp, hp = dwt(cur_lp, \"db4\")\n",
    "\n",
    "            # Shift and calculate the energy of detail/high pass coefficient\n",
    "            ssds = np.concatenate(([np.sum(hp ** 2)], ssds[:-1]))\n",
    "\n",
    "            # Check if we are in the local minimum of energy function of high-pass signal\n",
    "            if ssds[2] > ssds[1] and ssds[1] < ssds[0]:\n",
    "                break\n",
    "\n",
    "            cur_lp = lp[:]\n",
    "            iterations += 1\n",
    "\n",
    "        # Reconstruct the baseline from this level low pass signal up to the original length\n",
    "        baseline = cur_lp[:]\n",
    "        for _ in range(iterations):\n",
    "            baseline = idwt(baseline, np.zeros((len(baseline))), \"db4\")\n",
    "        new = x - baseline[: len(x)]\n",
    "        proc_signal = np.vstack((proc_signal, new))\n",
    "    return proc_signal"
   ]
  }
 ],
 "metadata": {
  "kernelspec": {
   "display_name": "Python 3.10.8 64-bit",
   "language": "python",
   "name": "python3"
  },
  "language_info": {
   "codemirror_mode": {
    "name": "ipython",
    "version": 3
   },
   "file_extension": ".py",
   "mimetype": "text/x-python",
   "name": "python",
   "nbconvert_exporter": "python",
   "pygments_lexer": "ipython3",
   "version": "3.10.8 (main, Nov 14 2022, 00:00:00) [GCC 12.2.1 20220819 (Red Hat 12.2.1-2)]"
  },
  "vscode": {
   "interpreter": {
    "hash": "e7370f93d1d0cde622a1f8e1c04877d8463912d04d973331ad4851f04de6915a"
   }
  }
 },
 "nbformat": 4,
 "nbformat_minor": 1
}
