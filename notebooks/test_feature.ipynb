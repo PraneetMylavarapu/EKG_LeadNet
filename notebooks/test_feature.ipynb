{
 "cells": [
  {
   "cell_type": "code",
   "execution_count": 27,
   "metadata": {},
   "outputs": [],
   "source": [
    "import scipy.io as sio\n",
    "import numpy as np\n",
    "from scipy.stats import median_abs_deviation\n",
    "from scipy.signal import find_peaks, filtfilt, iirnotch, savgol_filter\n",
    "\n",
    "def filter_peaks(peaks:np.ndarray, peak_indices:np.ndarray, window:int, inverted:bool=False) -> np.ndarray:\n",
    "    if inverted:\n",
    "        peaks = -1*peaks\n",
    "    true_peak_indices = []\n",
    "    i = 0\n",
    "    while i<len(peak_indices):\n",
    "        cluster = [[peaks[i], peak_indices[i]]]\n",
    "        if i<len(peak_indices)-1:\n",
    "            while peak_indices[i+1]-peak_indices[i] < window:\n",
    "                cluster.append([peaks[i+1], peak_indices[i+1]])\n",
    "                i = i+1\n",
    "                if i == len(peak_indices)-1:\n",
    "                    break\n",
    "        true_peak_indices.append(max(cluster)[1])\n",
    "        i = i+1\n",
    "    true_peak_indices = np.array(true_peak_indices)\n",
    "    return true_peak_indices\n",
    "\n",
    "def _find_peaks(ecg:np.ndarray, min_height:float, max_height:float=None, inverted:bool=False) -> np.ndarray:\n",
    "    sign = 1\n",
    "    if inverted:\n",
    "        sign = -1\n",
    "    if max_height:\n",
    "        height = (sign*min_height, sign*max_height)\n",
    "    else:\n",
    "        height = sign*min_height\n",
    "    peak_indices, _ = find_peaks(sign*ecg, height=height)\n",
    "    return peak_indices\n",
    "\n",
    "def reject_outliers(data, m = 2.):\n",
    "    d = np.abs(data - np.median(data))\n",
    "    mdev = np.median(d)\n",
    "    s = d/mdev if mdev else 0.\n",
    "    return data[s<m]\n",
    "\n",
    "def get_QRS(ekg, factor=5, margin=100, fs=500):\n",
    "    b, a = iirnotch(0.05 , Q=0.005, fs=fs)\n",
    "    bw_fixed_ecg = filtfilt(b, a, ekg[1])\n",
    "    median = np.median(bw_fixed_ecg)\n",
    "    bw_fixed_ecg = bw_fixed_ecg-median\n",
    "\n",
    "    # median absolute deviation (kind of like standard deviation but from the median rather than the mean)\n",
    "    mad = median_abs_deviation(bw_fixed_ecg)\n",
    "\n",
    "    # find Rs\n",
    "    R_indices, _ = find_peaks(bw_fixed_ecg, height=factor*mad)\n",
    "    Rs = bw_fixed_ecg[R_indices]\n",
    "\n",
    "    # fitler Rs\n",
    "    window = 20\n",
    "    true_R_indices = []\n",
    "    i = 0\n",
    "    for i in range(len(R_indices)):\n",
    "        cluster = [[Rs[i], R_indices[i]]]\n",
    "        while i < len(R_indices)-1 and R_indices[i+1]-R_indices[i] < window:\n",
    "            cluster.append([Rs[i+1], R_indices[i+1]])\n",
    "            i += 1\n",
    "        true_R_indices.append(max(cluster)[1])\n",
    "    true_R_indices = np.array(true_R_indices)\n",
    "\n",
    "    # deciding the cutoff for S\n",
    "    S_factor = 4\n",
    "    S_cutoff = -S_factor * mad\n",
    "    cut_ecg = bw_fixed_ecg[true_R_indices[1]+margin:true_R_indices[-2]-margin]\n",
    "\n",
    "    # finding and filtering Ss\n",
    "    S_indices = _find_peaks(cut_ecg, min_height=S_cutoff, inverted=True)\n",
    "    Ss = cut_ecg[S_indices]\n",
    "    true_S_indices = filter_peaks(Ss, S_indices, window=100, inverted=True)\n",
    "\n",
    "    # deciding the cutoff for Q\n",
    "    Q_factor = 4\n",
    "    Q_cutoff = -Q_factor*mad\n",
    "\n",
    "    # finding and filtering Qs\n",
    "    Q_indices = _find_peaks(cut_ecg, min_height=Q_cutoff, max_height=S_cutoff, inverted=True)\n",
    "    Qs = cut_ecg[Q_indices]\n",
    "    true_Q_indices = filter_peaks(Qs, Q_indices, window=50, inverted=True)\n",
    "\n",
    "    # average QRS interval\n",
    "\n",
    "    # find first zero crossing before Q index\n",
    "    Q_zero_crossings = []\n",
    "    for i in true_Q_indices:\n",
    "        for j in range(i, -1, -1):\n",
    "            if cut_ecg[j] <= 0:\n",
    "                Q_zero_crossings.append(i)\n",
    "                break\n",
    "    Q_zero_crossings = np.array(Q_zero_crossings)\n",
    "\n",
    "    # find first zero crossing after S index\n",
    "    S_zero_crossings = []\n",
    "    for i in true_S_indices:\n",
    "        for j in range(i, len(cut_ecg)-1):\n",
    "            if cut_ecg[j] >= 0:\n",
    "                S_zero_crossings.append(i)\n",
    "                break\n",
    "    S_zero_crossings = np.array(S_zero_crossings)\n",
    "\n",
    "    # average QRS interval\n",
    "    print(S_zero_crossings)\n",
    "    print(Q_zero_crossings)\n",
    "    qrs_intervals = S_zero_crossings - Q_zero_crossings\n",
    "    qrs_intervals = reject_outliers(qrs_intervals, 3)\n",
    "    avg_qrs_interval = np.mean(qrs_intervals)"
   ]
  },
  {
   "cell_type": "code",
   "execution_count": 6,
   "metadata": {},
   "outputs": [
    {
     "data": {
      "text/plain": [
       "(12, 5000)"
      ]
     },
     "execution_count": 6,
     "metadata": {},
     "output_type": "execute_result"
    }
   ],
   "source": [
    "data = sio.loadmat('training/chapman_shaoxing/g5/JS04193.mat')['val']"
   ]
  },
  {
   "cell_type": "code",
   "execution_count": 28,
   "metadata": {},
   "outputs": [
    {
     "name": "stdout",
     "output_type": "stream",
     "text": [
      "[]\n",
      "[  43  181  427  602  913 1261 1431 1589 1763 1989 2173 2455 2721 3010\n",
      " 3354 3536 3718 3889 4033 4173 4334]\n",
      "[]\n"
     ]
    },
    {
     "ename": "ValueError",
     "evalue": "operands could not be broadcast together with shapes (21,) (0,) ",
     "output_type": "error",
     "traceback": [
      "\u001b[0;31m---------------------------------------------------------------------------\u001b[0m",
      "\u001b[0;31mValueError\u001b[0m                                Traceback (most recent call last)",
      "Cell \u001b[0;32mIn[28], line 1\u001b[0m\n\u001b[0;32m----> 1\u001b[0m get_QRS(data)\n",
      "Cell \u001b[0;32mIn[27], line 109\u001b[0m, in \u001b[0;36mget_QRS\u001b[0;34m(ekg, factor, margin, fs)\u001b[0m\n\u001b[1;32m    107\u001b[0m \u001b[39mprint\u001b[39m(S_zero_crossings)\n\u001b[1;32m    108\u001b[0m \u001b[39mprint\u001b[39m(Q_zero_crossings)\n\u001b[0;32m--> 109\u001b[0m qrs_intervals \u001b[39m=\u001b[39m S_zero_crossings \u001b[39m-\u001b[39;49m Q_zero_crossings\n\u001b[1;32m    110\u001b[0m qrs_intervals \u001b[39m=\u001b[39m reject_outliers(qrs_intervals, \u001b[39m3\u001b[39m)\n\u001b[1;32m    111\u001b[0m avg_qrs_interval \u001b[39m=\u001b[39m np\u001b[39m.\u001b[39mmean(qrs_intervals)\n",
      "\u001b[0;31mValueError\u001b[0m: operands could not be broadcast together with shapes (21,) (0,) "
     ]
    }
   ],
   "source": [
    "get_QRS(data)"
   ]
  },
  {
   "cell_type": "code",
   "execution_count": 9,
   "metadata": {},
   "outputs": [
    {
     "name": "stdout",
     "output_type": "stream",
     "text": [
      "[  48  187  433  606  920 1265 1436 1595 1770 1992 2180 2461 2725 3016\n",
      " 3361 3543 3724 3894 4038 4179 4339]\n",
      "[]\n"
     ]
    },
    {
     "ename": "ValueError",
     "evalue": "operands could not be broadcast together with shapes (21,) (0,) ",
     "output_type": "error",
     "traceback": [
      "\u001b[0;31m---------------------------------------------------------------------------\u001b[0m",
      "\u001b[0;31mValueError\u001b[0m                                Traceback (most recent call last)",
      "Cell \u001b[0;32mIn[9], line 1\u001b[0m\n\u001b[0;32m----> 1\u001b[0m get_QRS(data)\n",
      "Cell \u001b[0;32mIn[8], line 123\u001b[0m, in \u001b[0;36mget_QRS\u001b[0;34m(ekg, factor, margin, fs)\u001b[0m\n\u001b[1;32m    121\u001b[0m \u001b[39mprint\u001b[39m(S_zero_crossings)\n\u001b[1;32m    122\u001b[0m \u001b[39mprint\u001b[39m(Q_zero_crossings)\n\u001b[0;32m--> 123\u001b[0m qrs_intervals \u001b[39m=\u001b[39m S_zero_crossings \u001b[39m-\u001b[39;49m Q_zero_crossings\n\u001b[1;32m    124\u001b[0m qrs_intervals \u001b[39m=\u001b[39m reject_outliers(qrs_intervals, \u001b[39m3\u001b[39m)\n\u001b[1;32m    125\u001b[0m avg_qrs_interval \u001b[39m=\u001b[39m np\u001b[39m.\u001b[39mmean(qrs_intervals)\n",
      "\u001b[0;31mValueError\u001b[0m: operands could not be broadcast together with shapes (21,) (0,) "
     ]
    }
   ],
   "source": [
    "get_QRS(data)"
   ]
  }
 ],
 "metadata": {
  "kernelspec": {
   "display_name": "Python 3",
   "language": "python",
   "name": "python3"
  },
  "language_info": {
   "codemirror_mode": {
    "name": "ipython",
    "version": 3
   },
   "file_extension": ".py",
   "mimetype": "text/x-python",
   "name": "python",
   "nbconvert_exporter": "python",
   "pygments_lexer": "ipython3",
   "version": "3.10.8 (main, Nov 14 2022, 00:00:00) [GCC 12.2.1 20220819 (Red Hat 12.2.1-2)]"
  },
  "orig_nbformat": 4,
  "vscode": {
   "interpreter": {
    "hash": "e7370f93d1d0cde622a1f8e1c04877d8463912d04d973331ad4851f04de6915a"
   }
  }
 },
 "nbformat": 4,
 "nbformat_minor": 2
}
